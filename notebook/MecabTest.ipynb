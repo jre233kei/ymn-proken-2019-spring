{
 "cells": [
  {
   "cell_type": "code",
   "execution_count": 1,
   "metadata": {},
   "outputs": [
    {
     "name": "stdout",
     "output_type": "stream",
     "text": [
      "Collecting mecab\n",
      "\u001b[31m  Could not find a version that satisfies the requirement mecab (from versions: )\u001b[0m\n",
      "\u001b[31mNo matching distribution found for mecab\u001b[0m\n",
      "\u001b[33mYou are using pip version 18.1, however version 19.1 is available.\n",
      "You should consider upgrading via the 'pip install --upgrade pip' command.\u001b[0m\n"
     ]
    }
   ],
   "source": [
    "!pip install mecab mecab-ipadic"
   ]
  },
  {
   "cell_type": "code",
   "execution_count": 2,
   "metadata": {},
   "outputs": [
    {
     "name": "stdout",
     "output_type": "stream",
     "text": [
      "Requirement already satisfied: mecab-python3 in /Users/fukuikota/miniconda3/lib/python3.6/site-packages (0.996.1)\n",
      "\u001b[33mYou are using pip version 18.1, however version 19.1 is available.\n",
      "You should consider upgrading via the 'pip install --upgrade pip' command.\u001b[0m\n"
     ]
    }
   ],
   "source": [
    "!pip install mecab-python3"
   ]
  },
  {
   "cell_type": "code",
   "execution_count": 3,
   "metadata": {},
   "outputs": [
    {
     "name": "stdout",
     "output_type": "stream",
     "text": [
      "Requirement already satisfied: gensim in /Users/fukuikota/miniconda3/lib/python3.6/site-packages (3.7.2)\n",
      "Requirement already satisfied: scipy>=0.18.1 in /Users/fukuikota/miniconda3/lib/python3.6/site-packages (from gensim) (1.1.0)\n",
      "Requirement already satisfied: smart-open>=1.7.0 in /Users/fukuikota/miniconda3/lib/python3.6/site-packages (from gensim) (1.8.3)\n",
      "Requirement already satisfied: numpy>=1.11.3 in /Users/fukuikota/miniconda3/lib/python3.6/site-packages (from gensim) (1.14.5)\n",
      "Requirement already satisfied: six>=1.5.0 in /Users/fukuikota/miniconda3/lib/python3.6/site-packages (from gensim) (1.11.0)\n",
      "Requirement already satisfied: boto3 in /Users/fukuikota/miniconda3/lib/python3.6/site-packages (from smart-open>=1.7.0->gensim) (1.9.142)\n",
      "Requirement already satisfied: boto>=2.32 in /Users/fukuikota/miniconda3/lib/python3.6/site-packages (from smart-open>=1.7.0->gensim) (2.49.0)\n",
      "Requirement already satisfied: requests in /Users/fukuikota/miniconda3/lib/python3.6/site-packages (from smart-open>=1.7.0->gensim) (2.18.4)\n",
      "Requirement already satisfied: jmespath<1.0.0,>=0.7.1 in /Users/fukuikota/miniconda3/lib/python3.6/site-packages (from boto3->smart-open>=1.7.0->gensim) (0.9.4)\n",
      "Requirement already satisfied: botocore<1.13.0,>=1.12.142 in /Users/fukuikota/miniconda3/lib/python3.6/site-packages (from boto3->smart-open>=1.7.0->gensim) (1.12.142)\n",
      "Requirement already satisfied: s3transfer<0.3.0,>=0.2.0 in /Users/fukuikota/miniconda3/lib/python3.6/site-packages (from boto3->smart-open>=1.7.0->gensim) (0.2.0)\n",
      "Requirement already satisfied: chardet<3.1.0,>=3.0.2 in /Users/fukuikota/miniconda3/lib/python3.6/site-packages (from requests->smart-open>=1.7.0->gensim) (3.0.4)\n",
      "Requirement already satisfied: idna<2.7,>=2.5 in /Users/fukuikota/miniconda3/lib/python3.6/site-packages (from requests->smart-open>=1.7.0->gensim) (2.6)\n",
      "Requirement already satisfied: urllib3<1.23,>=1.21.1 in /Users/fukuikota/miniconda3/lib/python3.6/site-packages (from requests->smart-open>=1.7.0->gensim) (1.22)\n",
      "Requirement already satisfied: certifi>=2017.4.17 in /Users/fukuikota/miniconda3/lib/python3.6/site-packages (from requests->smart-open>=1.7.0->gensim) (2018.4.16)\n",
      "Requirement already satisfied: python-dateutil<3.0.0,>=2.1; python_version >= \"2.7\" in /Users/fukuikota/miniconda3/lib/python3.6/site-packages (from botocore<1.13.0,>=1.12.142->boto3->smart-open>=1.7.0->gensim) (2.7.3)\n",
      "Requirement already satisfied: docutils>=0.10 in /Users/fukuikota/miniconda3/lib/python3.6/site-packages (from botocore<1.13.0,>=1.12.142->boto3->smart-open>=1.7.0->gensim) (0.14)\n",
      "\u001b[33mYou are using pip version 18.1, however version 19.1 is available.\n",
      "You should consider upgrading via the 'pip install --upgrade pip' command.\u001b[0m\n"
     ]
    }
   ],
   "source": [
    "!pip install gensim"
   ]
  },
  {
   "cell_type": "code",
   "execution_count": 4,
   "metadata": {},
   "outputs": [
    {
     "name": "stdout",
     "output_type": "stream",
     "text": [
      "Requirement already satisfied: fasttext in /Users/fukuikota/miniconda3/lib/python3.6/site-packages (0.8.3)\n",
      "Requirement already satisfied: numpy>=1 in /Users/fukuikota/miniconda3/lib/python3.6/site-packages (from fasttext) (1.14.5)\n",
      "Requirement already satisfied: future in /Users/fukuikota/miniconda3/lib/python3.6/site-packages (from fasttext) (0.16.0)\n",
      "\u001b[33mYou are using pip version 18.1, however version 19.1 is available.\n",
      "You should consider upgrading via the 'pip install --upgrade pip' command.\u001b[0m\n"
     ]
    }
   ],
   "source": [
    "!pip install fasttext"
   ]
  },
  {
   "cell_type": "code",
   "execution_count": 5,
   "metadata": {},
   "outputs": [],
   "source": [
    "from gensim.models import word2vec\n"
   ]
  },
  {
   "cell_type": "code",
   "execution_count": 6,
   "metadata": {},
   "outputs": [],
   "source": [
    "import MeCab\n",
    "import pickle"
   ]
  },
  {
   "cell_type": "code",
   "execution_count": 7,
   "metadata": {},
   "outputs": [],
   "source": [
    "class Review:\n",
    "    def __init__ (self,star,text):\n",
    "        self.star = star\n",
    "        self.text = text"
   ]
  },
  {
   "cell_type": "code",
   "execution_count": 8,
   "metadata": {},
   "outputs": [],
   "source": [
    "with open('../data/processing/reviews.pickle','rb') as f:\n",
    "    revs = pickle.load(f)"
   ]
  },
  {
   "cell_type": "code",
   "execution_count": 9,
   "metadata": {},
   "outputs": [],
   "source": [
    "m = MeCab.Tagger (\"-Ochasen\")"
   ]
  },
  {
   "cell_type": "code",
   "execution_count": null,
   "metadata": {},
   "outputs": [],
   "source": []
  },
  {
   "cell_type": "code",
   "execution_count": null,
   "metadata": {},
   "outputs": [],
   "source": [
    "\n",
    "    \n"
   ]
  },
  {
   "cell_type": "code",
   "execution_count": 13,
   "metadata": {
    "scrolled": true
   },
   "outputs": [],
   "source": [
    "for r in revs:\n",
    "    rev_text = r.text\n",
    "    mecab_result = m.parse (rev_text)\n",
    "\n",
    "    words_raw = [i.split() for i in mecab_result.split('\\n')]\n",
    "\n",
    "    words = []\n",
    "    list_element  = \"\"\n",
    "    \n",
    "    for w in words_raw:\n",
    "        if len(w)>1:\n",
    "            words.append(w[0])\n",
    "        \n",
    "    list_element  += '__label__' +str(r.star)\n",
    "    \n",
    "    for w in words:\n",
    "        list_element  += ' ' + w\n",
    "        \n",
    "    list_element  += '\\n' \n",
    "        \n",
    "    path = '../data/processing/train.lst'\n",
    "    with open(path,mode='a') as f:\n",
    "        f.write(list_element)\n",
    "    "
   ]
  },
  {
   "cell_type": "code",
   "execution_count": null,
   "metadata": {},
   "outputs": [],
   "source": []
  },
  {
   "cell_type": "code",
   "execution_count": null,
   "metadata": {},
   "outputs": [],
   "source": [
    "sent = words\n",
    "\n",
    "model = word2vec.Word2Vec(sent,\n",
    "                          size=100,  # ベクトルの次元\n",
    "                          min_count=3,  # 最小3回以上出ている単語のみの使用\n",
    "                          window=5,  # window幅\n",
    "                          iter=4000,  # 学習の繰り返し数\n",
    "                          seed=2018\n",
    "                         )"
   ]
  },
  {
   "cell_type": "code",
   "execution_count": null,
   "metadata": {},
   "outputs": [],
   "source": []
  }
 ],
 "metadata": {
  "kernelspec": {
   "display_name": "Python 3",
   "language": "python",
   "name": "python3"
  },
  "language_info": {
   "codemirror_mode": {
    "name": "ipython",
    "version": 3
   },
   "file_extension": ".py",
   "mimetype": "text/x-python",
   "name": "python",
   "nbconvert_exporter": "python",
   "pygments_lexer": "ipython3",
   "version": "3.6.5"
  }
 },
 "nbformat": 4,
 "nbformat_minor": 2
}
