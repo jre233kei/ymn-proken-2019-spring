{
 "cells": [
  {
   "cell_type": "code",
   "execution_count": 1,
   "metadata": {},
   "outputs": [],
   "source": [
    "import time"
   ]
  },
  {
   "cell_type": "code",
   "execution_count": 2,
   "metadata": {},
   "outputs": [],
   "source": [
    "import re"
   ]
  },
  {
   "cell_type": "code",
   "execution_count": 3,
   "metadata": {},
   "outputs": [],
   "source": [
    "from bs4 import BeautifulSoup"
   ]
  },
  {
   "cell_type": "code",
   "execution_count": 4,
   "metadata": {},
   "outputs": [],
   "source": [
    "from urllib.request import urlopen"
   ]
  },
  {
   "cell_type": "code",
   "execution_count": 5,
   "metadata": {},
   "outputs": [],
   "source": [
    "html =  urlopen(\"https://www.amazon.co.jp/ranking?type=top-sellers&ref=crw_prtl_ts\")"
   ]
  },
  {
   "cell_type": "code",
   "execution_count": 6,
   "metadata": {},
   "outputs": [],
   "source": [
    "soup = BeautifulSoup(html)"
   ]
  },
  {
   "cell_type": "code",
   "execution_count": 7,
   "metadata": {},
   "outputs": [],
   "source": [
    "links_raw =  soup.find_all(\"a\", class_=\"a-link-normal crown-ranking-product-title-link a-text-normal\")"
   ]
  },
  {
   "cell_type": "code",
   "execution_count": 8,
   "metadata": {},
   "outputs": [],
   "source": [
    "links_href = [i.get('href') for i in links_raw]"
   ]
  },
  {
   "cell_type": "code",
   "execution_count": 9,
   "metadata": {},
   "outputs": [],
   "source": [
    "links = []"
   ]
  },
  {
   "cell_type": "code",
   "execution_count": 10,
   "metadata": {},
   "outputs": [],
   "source": [
    "for l in links_href:\n",
    "    l1 = re.sub('dp','product-reviews',l)\n",
    "    l2 = re.sub('ref_=.*',r'ref=cm_cr_arp_d_paging_btm_next_2?ie=UTF8&reviewerType=all_reviews&pageNumber=1',l1)\n",
    "    a = 'https://www.amazon.co.jp'\n",
    "    links.append(a + l2)"
   ]
  },
  {
   "cell_type": "code",
   "execution_count": null,
   "metadata": {},
   "outputs": [],
   "source": []
  },
  {
   "cell_type": "code",
   "execution_count": 11,
   "metadata": {},
   "outputs": [
    {
     "name": "stdout",
     "output_type": "stream",
     "text": [
      "['https://www.amazon.co.jp/実験思考-世の中、すべては実験-NewsPicks-Book-光本/product-reviews/4344034635?ref=cm_cr_arp_d_paging_btm_next_2?ie=UTF8&reviewerType=all_reviews&pageNumber=1', 'https://www.amazon.co.jp/公式ガイド-レシピ-きのう何食べた-シロさんの簡単レシピ-講談社/product-reviews/4065151325?ref=cm_cr_arp_d_paging_btm_next_2?ie=UTF8&reviewerType=all_reviews&pageNumber=1', 'https://www.amazon.co.jp/ウチら棺桶まで永遠のランウェイ-kemio/product-reviews/4040657284?ref=cm_cr_arp_d_paging_btm_next_2?ie=UTF8&reviewerType=all_reviews&pageNumber=1', 'https://www.amazon.co.jp/ペルソナ5-ザ・ロイヤル-限定版-【限定版同梱物】アートブック-【Amazon-co-jp限定】アイテム未定/product-reviews/B07R2BM5RN?ref=cm_cr_arp_d_paging_btm_next_2?ie=UTF8&reviewerType=all_reviews&pageNumber=1', 'https://www.amazon.co.jp/ペルソナ5-ザ・ロイヤル-限定版-【限定版同梱物】アートブック-同梱/product-reviews/B07QXXKKY7?ref=cm_cr_arp_d_paging_btm_next_2?ie=UTF8&reviewerType=all_reviews&pageNumber=1', 'https://www.amazon.co.jp/【PS4】Days-バイクアップグレードパック-ドリフタークロスボウ早期アンロック-をダウンロード出来るプロダクトコード-【CEROレーティング「Z」】/product-reviews/B07MX9P3HZ?ref=cm_cr_arp_d_paging_btm_next_2?ie=UTF8&reviewerType=all_reviews&pageNumber=1', 'https://www.amazon.co.jp/スーパーミニプラ-青の騎士ベルゼルガ物語-Vol-1-食玩・ガム-装甲騎兵ボトムズ/product-reviews/B07QWRGL14?ref=cm_cr_arp_d_paging_btm_next_2?ie=UTF8&reviewerType=all_reviews&pageNumber=1', 'https://www.amazon.co.jp/MODEROID-絶対無敵ライジンオー-バクリュウオー-ノンスケール-組み立て式プラスチックモデル/product-reviews/B07QWR2CCM?ref=cm_cr_arp_d_paging_btm_next_2?ie=UTF8&reviewerType=all_reviews&pageNumber=1', 'https://www.amazon.co.jp/スーパーミニプラ-SSSS-GRIDMAN-4個入り-食玩・ガム/product-reviews/B07QWR3KDW?ref=cm_cr_arp_d_paging_btm_next_2?ie=UTF8&reviewerType=all_reviews&pageNumber=1', 'https://www.amazon.co.jp/ボヘミアン・ラプソディ-2枚組ブルーレイ-DVD-Blu-ray-ラミ・マレック/product-reviews/B07PCY2W9B?ref=cm_cr_arp_d_paging_btm_next_2?ie=UTF8&reviewerType=all_reviews&pageNumber=1', 'https://www.amazon.co.jp/シュガー・ラッシュ-MovieNEX-デジタルコピー-MovieNEXワールド-Blu-ray/product-reviews/B07NWSHJB8?ref=cm_cr_arp_d_paging_btm_next_2?ie=UTF8&reviewerType=all_reviews&pageNumber=1', 'https://www.amazon.co.jp/ボヘミアン・ラプソディ-DVD-ラミ・マレック/product-reviews/B07PCY2XNF?ref=cm_cr_arp_d_paging_btm_next_2?ie=UTF8&reviewerType=all_reviews&pageNumber=1', 'https://www.amazon.co.jp/SALONIA-サロニア-ストレートヒートブラシ-ブラック-海外対応/product-reviews/B07JHJZY3Z?ref=cm_cr_arp_d_paging_btm_next_2?ie=UTF8&reviewerType=all_reviews&pageNumber=1', 'https://www.amazon.co.jp/パナソニック-Panasonic-エチケットカッター-ER-GN10/product-reviews/B06XTPJSVG?ref=cm_cr_arp_d_paging_btm_next_2?ie=UTF8&reviewerType=all_reviews&pageNumber=1', 'https://www.amazon.co.jp/タイガー-直飲み-ステンレス-ボトル-MMZシリーズ/product-reviews/B0751GK8FZ?ref=cm_cr_arp_d_paging_btm_next_2?ie=UTF8&reviewerType=all_reviews&pageNumber=1', 'https://www.amazon.co.jp/ハミングファイン-柔軟剤-DEOEX-スパークリングシトラスの香り-本体540ml/product-reviews/B071474QPT?ref=cm_cr_arp_d_paging_btm_next_2?ie=UTF8&reviewerType=all_reviews&pageNumber=1', 'https://www.amazon.co.jp/めちゃうす-1000-1箱12コ入×3パック-【SKYN-お試しサンプル付】/product-reviews/B000NZ9M60?ref=cm_cr_arp_d_paging_btm_next_2?ie=UTF8&reviewerType=all_reviews&pageNumber=1', 'https://www.amazon.co.jp/大塚製薬-ネイチャーメイド-スーパーマルチビタミン-ミネラル-120粒/product-reviews/B00516RULK?ref=cm_cr_arp_d_paging_btm_next_2?ie=UTF8&reviewerType=all_reviews&pageNumber=1', 'https://www.amazon.co.jp/Fire-TV-Stick-Alexa対応音声認識リモコン付属/product-reviews/B0791YQWJJ?ref=cm_cr_arp_d_paging_btm_next_2?ie=UTF8&reviewerType=all_reviews&pageNumber=1', 'https://www.amazon.co.jp/Fire-TV-Stick-4K-HDR対応-Alexa対応音声認識リモコン付属/product-reviews/B079QRQTCR?ref=cm_cr_arp_d_paging_btm_next_2?ie=UTF8&reviewerType=all_reviews&pageNumber=1', 'https://www.amazon.co.jp/Fire-HD-10-タブレット-10.1インチ-Newモデル-32GB-ブラック/product-reviews/B01J6RPOJY?ref=cm_cr_arp_d_paging_btm_next_2?ie=UTF8&reviewerType=all_reviews&pageNumber=1', 'https://www.amazon.co.jp/Microsoft-Windows-April-Update適用-パッケージ版/product-reviews/B0776K4V9X?ref=cm_cr_arp_d_paging_btm_next_2?ie=UTF8&reviewerType=all_reviews&pageNumber=1', 'https://www.amazon.co.jp/Microsoft-Office-オンラインコード版-インストール台数無制限-1TBのストレージつき/product-reviews/B00O2TXF8O?ref=cm_cr_arp_d_paging_btm_next_2?ie=UTF8&reviewerType=all_reviews&pageNumber=1', 'https://www.amazon.co.jp/ESET-インターネット-セキュリティ-5台3年版-Android対応/product-reviews/B07N95L7PY?ref=cm_cr_arp_d_paging_btm_next_2?ie=UTF8&reviewerType=all_reviews&pageNumber=1', 'https://www.amazon.co.jp/オルビス-ORBIS-オルビスユー-ジュレパック-◎洗い流すスペシャルパック◎/product-reviews/B07Q9TC36P?ref=cm_cr_arp_d_paging_btm_next_2?ie=UTF8&reviewerType=all_reviews&pageNumber=1', 'https://www.amazon.co.jp/【医薬部外品】メラノCC-薬用しみ・ニキビ-集中対策-Wビタミン浸透美容液-20mL/product-reviews/B00ITAP8P0?ref=cm_cr_arp_d_paging_btm_next_2?ie=UTF8&reviewerType=all_reviews&pageNumber=1', 'https://www.amazon.co.jp/APAGARD-アパガード-プレミオ-【医薬部外品】-100g/product-reviews/B00NE7JU34?ref=cm_cr_arp_d_paging_btm_next_2?ie=UTF8&reviewerType=all_reviews&pageNumber=1', 'https://www.amazon.co.jp/日立-HITACHI-RJK-30-自動製氷機能付冷蔵庫交換用浄水フィルター/product-reviews/B0000C91EK?ref=cm_cr_arp_d_paging_btm_next_2?ie=UTF8&reviewerType=all_reviews&pageNumber=1', 'https://www.amazon.co.jp/日立-HITACHI-SK-1-洗濯槽クリーナー/product-reviews/B000WLIK5Y?ref=cm_cr_arp_d_paging_btm_next_2?ie=UTF8&reviewerType=all_reviews&pageNumber=1', 'https://www.amazon.co.jp/Hisense-ハイセンス-HR-B95A-冷凍冷蔵庫-93L/product-reviews/B01MFETABP?ref=cm_cr_arp_d_paging_btm_next_2?ie=UTF8&reviewerType=all_reviews&pageNumber=1', 'https://www.amazon.co.jp/ユナイテッドアスレ-UnitedAthle-5-6オンス-ハイクオリティー-500101/product-reviews/B00WQG4LBK?ref=cm_cr_arp_d_paging_btm_next_2?ie=UTF8&reviewerType=all_reviews&pageNumber=1', 'https://www.amazon.co.jp/ヘインズ-Hanes-Tシャツ-ビーフィー-BEEFY/product-reviews/B00RF2ZNI0?ref=cm_cr_arp_d_paging_btm_next_2?ie=UTF8&reviewerType=all_reviews&pageNumber=1', 'https://www.amazon.co.jp/テスラ-TESLA-オールシーズン-ラウンドネック-UVカット・吸汗速乾/product-reviews/B07HFVNB8T?ref=cm_cr_arp_d_paging_btm_next_2?ie=UTF8&reviewerType=all_reviews&pageNumber=1', 'https://www.amazon.co.jp/【Amazon-co-jp-限定】-キリン-アルカリイオンの水-2L×9本/product-reviews/B01BEPNPF6?ref=cm_cr_arp_d_paging_btm_next_2?ie=UTF8&reviewerType=all_reviews&pageNumber=1', 'https://www.amazon.co.jp/アサヒ-ウィルキンソン-タンサン-強炭酸水-500ml×24本/product-reviews/B01CNBT7NY?ref=cm_cr_arp_d_paging_btm_next_2?ie=UTF8&reviewerType=all_reviews&pageNumber=1', 'https://www.amazon.co.jp/天然水-【Amazon-co-jp-限定】サントリー-南アルプスの天然水-2L×9本/product-reviews/B07F1CCSJZ?ref=cm_cr_arp_d_paging_btm_next_2?ie=UTF8&reviewerType=all_reviews&pageNumber=1', 'https://www.amazon.co.jp/ヤマハ-YAMAHA-PIANICA-ピアニカ-P-32E/product-reviews/B00N4NKT74?ref=cm_cr_arp_d_paging_btm_next_2?ie=UTF8&reviewerType=all_reviews&pageNumber=1', 'https://www.amazon.co.jp/ヤマハ-YAMAHA-PIANICA-ピアニカ-P-32EP/product-reviews/B00N4NKWO4?ref=cm_cr_arp_d_paging_btm_next_2?ie=UTF8&reviewerType=all_reviews&pageNumber=1', 'https://www.amazon.co.jp/SUZUKI-スズキ-鍵盤ハーモニカ-メロディオン-FA-32B/product-reviews/B015F8688Y?ref=cm_cr_arp_d_paging_btm_next_2?ie=UTF8&reviewerType=all_reviews&pageNumber=1', 'https://www.amazon.co.jp/超筋トレが最強のソリューションである-筋肉が人生を変える超科学的な理由-Ｔｅｓｔｏｓｔｅｒｏｎｅ-ebook/product-reviews/B07BXYR748?ref=cm_cr_arp_d_paging_btm_next_2?ie=UTF8&reviewerType=all_reviews&pageNumber=1', 'https://www.amazon.co.jp/世界一やさしい「思考法」の本-「考える2人」の物語-長沢-朋哉-ebook/product-reviews/B00TFAFIC6?ref=cm_cr_arp_d_paging_btm_next_2?ie=UTF8&reviewerType=all_reviews&pageNumber=1', 'https://www.amazon.co.jp/図解・最新-難しいことはわかりませんが、お金の増やし方を教えてください！-山崎元-ebook/product-reviews/B077F4SK36?ref=cm_cr_arp_d_paging_btm_next_2?ie=UTF8&reviewerType=all_reviews&pageNumber=1', 'https://www.amazon.co.jp/aikoの詩。-初回限定仕様盤-4CD-DVD-aiko/product-reviews/B07R1VRWSW?ref=cm_cr_arp_d_paging_btm_next_2?ie=UTF8&reviewerType=all_reviews&pageNumber=1', 'https://www.amazon.co.jp/【Amazon-co-jp限定】NEW-LOVE-初回生産限定盤-オリジナルTシャツ-特典未定/product-reviews/B07QCV96NX?ref=cm_cr_arp_d_paging_btm_next_2?ie=UTF8&reviewerType=all_reviews&pageNumber=1', 'https://www.amazon.co.jp/ヒプノシスマイク-Division-ALBUM「Enter-Hypnosis-Microphone」-初回限定LIVE盤/product-reviews/B07PFBJQWR?ref=cm_cr_arp_d_paging_btm_next_2?ie=UTF8&reviewerType=all_reviews&pageNumber=1', 'https://www.amazon.co.jp/龙方儿-AirReceiver/product-reviews/B00L5HQRGS?ref=cm_cr_arp_d_paging_btm_next_2?ie=UTF8&reviewerType=all_reviews&pageNumber=1', 'https://www.amazon.co.jp/Mojang-Minecraft/product-reviews/B00992CF6W?ref=cm_cr_arp_d_paging_btm_next_2?ie=UTF8&reviewerType=all_reviews&pageNumber=1', 'https://www.amazon.co.jp/RookieStudio-Perfect-Viewer/product-reviews/B005XN0SGU?ref=cm_cr_arp_d_paging_btm_next_2?ie=UTF8&reviewerType=all_reviews&pageNumber=1', 'https://www.amazon.co.jp/Amazonギフト券-1_JP_Reload-チャージタイプ-直接アカウントに残高追加/product-reviews/B00VWRIT8U?ref=cm_cr_arp_d_paging_btm_next_2?ie=UTF8&reviewerType=all_reviews&pageNumber=1', 'https://www.amazon.co.jp/Amazonギフト券-1_JP_Email-Amazonギフト券-Eメールタイプ-Amazonベーシック/product-reviews/B004N3APGO?ref=cm_cr_arp_d_paging_btm_next_2?ie=UTF8&reviewerType=all_reviews&pageNumber=1', 'https://www.amazon.co.jp/Amazonギフト券-2_JP_Email-Amazonギフト券-Eメールタイプ-ありがとう/product-reviews/B004N3APDM?ref=cm_cr_arp_d_paging_btm_next_2?ie=UTF8&reviewerType=all_reviews&pageNumber=1', 'https://www.amazon.co.jp/アイリスオーヤマ-除草剤-速効除草剤-4L-SJS-4L/product-reviews/B007RLHLE8?ref=cm_cr_arp_d_paging_btm_next_2?ie=UTF8&reviewerType=all_reviews&pageNumber=1', 'https://www.amazon.co.jp/マキタ-充電式クリーナー-4072、4073、4076DW、4093-紙パック-48511/product-reviews/B001B6ELUW?ref=cm_cr_arp_d_paging_btm_next_2?ie=UTF8&reviewerType=all_reviews&pageNumber=1', 'https://www.amazon.co.jp/自然応用科学-Applied-Natural-鉢底に入れる石-0-5L×10個/product-reviews/B009OVGTJC?ref=cm_cr_arp_d_paging_btm_next_2?ie=UTF8&reviewerType=all_reviews&pageNumber=1', 'https://www.amazon.co.jp/ボヘミアン・ラプソディ-レンタル版-字幕版-クイーンドキュメンタリー視聴券付-31ご注文分まで/product-reviews/B07QBBFYLT?ref=cm_cr_arp_d_paging_btm_next_2?ie=UTF8&reviewerType=all_reviews&pageNumber=1', 'https://www.amazon.co.jp/アベンジャーズ／インフィニティ・ウォー-字幕版-Robert-Downey-Jr/product-reviews/B07FDKS89P?ref=cm_cr_arp_d_paging_btm_next_2?ie=UTF8&reviewerType=all_reviews&pageNumber=1', 'https://www.amazon.co.jp/アベンジャーズ／インフィニティ・ウォー-吹替版-Robert-Downey-Jr/product-reviews/B07FJNLFP5?ref=cm_cr_arp_d_paging_btm_next_2?ie=UTF8&reviewerType=all_reviews&pageNumber=1', 'https://www.amazon.co.jp/10対応】Samsung-microSDカード32GB-Nintendo-MB-MC32GA-ECO/product-reviews/B06XSV23T1?ref=cm_cr_arp_d_paging_btm_next_2?ie=UTF8&reviewerType=all_reviews&pageNumber=1', 'https://www.amazon.co.jp/microSDカード128GB-Nintendo-正規代理店保証品-MB-MC128GA-ECO/product-reviews/B06XSTCW3G?ref=cm_cr_arp_d_paging_btm_next_2?ie=UTF8&reviewerType=all_reviews&pageNumber=1', 'https://www.amazon.co.jp/【Amazon-co-jp限定】BUFFALO-外付けハードディスク-テレビ録画-みまもり合図-HD-AD4U3/product-reviews/B07BK6696F?ref=cm_cr_arp_d_paging_btm_next_2?ie=UTF8&reviewerType=all_reviews&pageNumber=1', 'https://www.amazon.co.jp/Phactory-軟骨ピアス-ストレートバーベル-ボディピアス-サージカルステンレス/product-reviews/B07C3JZ2DW?ref=cm_cr_arp_d_paging_btm_next_2?ie=UTF8&reviewerType=all_reviews&pageNumber=1', 'https://www.amazon.co.jp/ピナック-2-ss-care-026-98-100分の1秒で瞬間ピアス-ファーストピアス付き/product-reviews/B07BTG5ZFN?ref=cm_cr_arp_d_paging_btm_next_2?ie=UTF8&reviewerType=all_reviews&pageNumber=1', 'https://www.amazon.co.jp/WENER-使い捨てアクセサリー/product-reviews/B07P6PN5K8?ref=cm_cr_arp_d_paging_btm_next_2?ie=UTF8&reviewerType=all_reviews&pageNumber=1', 'https://www.amazon.co.jp/株式会社クラグラ-たった今考えたプロポーズの言葉を君に捧ぐよ。/product-reviews/B07KMH3421?ref=cm_cr_arp_d_paging_btm_next_2?ie=UTF8&reviewerType=all_reviews&pageNumber=1', 'https://www.amazon.co.jp/ベイブレードバースト-B-139-スターター-ウィザードファブニル-Rt-Rs-閃/product-reviews/B07QG1P62P?ref=cm_cr_arp_d_paging_btm_next_2?ie=UTF8&reviewerType=all_reviews&pageNumber=1', 'https://www.amazon.co.jp/マテル-MATTEL-BJV44-ブロックス/product-reviews/B00FBWBM3G?ref=cm_cr_arp_d_paging_btm_next_2?ie=UTF8&reviewerType=all_reviews&pageNumber=1', 'https://www.amazon.co.jp/スマートウォッチ-GanRiver-スマートブレスレット-カラースクリーン-Android対応/product-reviews/B07QLNGTLS?ref=cm_cr_arp_d_paging_btm_next_2?ie=UTF8&reviewerType=all_reviews&pageNumber=1', 'https://www.amazon.co.jp/キャプテンスタッグ-CAPTAIN-STAG-ロールテーブル-M-3713/product-reviews/B000AR4TJQ?ref=cm_cr_arp_d_paging_btm_next_2?ie=UTF8&reviewerType=all_reviews&pageNumber=1', 'https://www.amazon.co.jp/LICLI-「丸洗いできる-コンパクト-オールシーズン-アウトドア/product-reviews/B01NAI0RCW?ref=cm_cr_arp_d_paging_btm_next_2?ie=UTF8&reviewerType=all_reviews&pageNumber=1', 'https://www.amazon.co.jp/コクヨ-コピー用紙-白色度80-紙厚0-09mm-KB-39N/product-reviews/B0006L0120?ref=cm_cr_arp_d_paging_btm_next_2?ie=UTF8&reviewerType=all_reviews&pageNumber=1', 'https://www.amazon.co.jp/コピー用紙-ホワイトコピー用紙-紙厚0-09mm-2500枚-500×5/product-reviews/B00LUKK0IQ?ref=cm_cr_arp_d_paging_btm_next_2?ie=UTF8&reviewerType=all_reviews&pageNumber=1', 'https://www.amazon.co.jp/アイリスオーヤマ-ラミネートフィルム-100μm-100枚入-LZ-A4100/product-reviews/B000O76S2S?ref=cm_cr_arp_d_paging_btm_next_2?ie=UTF8&reviewerType=all_reviews&pageNumber=1', 'https://www.amazon.co.jp/ニオイをとる砂-5L×4袋-ケース販売/product-reviews/B004X9RX0O?ref=cm_cr_arp_d_paging_btm_next_2?ie=UTF8&reviewerType=all_reviews&pageNumber=1', 'https://www.amazon.co.jp/ピュリナ-ワン-避妊・去勢した猫の体重ケア-避妊・去勢後から全ての年齢に-550g×4袋/product-reviews/B00EN6Q7M2?ref=cm_cr_arp_d_paging_btm_next_2?ie=UTF8&reviewerType=all_reviews&pageNumber=1', 'https://www.amazon.co.jp/ニオイをとる砂-リラックスグリーンの香り-5L×4袋-ケース販売/product-reviews/B00IZYXUKU?ref=cm_cr_arp_d_paging_btm_next_2?ie=UTF8&reviewerType=all_reviews&pageNumber=1', 'https://www.amazon.co.jp/Hiroshima-Boy-Naomi-Hirahara/product-reviews/1945551089?ref=cm_cr_arp_d_paging_btm_next_2?ie=UTF8&reviewerType=all_reviews&pageNumber=1', 'https://www.amazon.co.jp/Eye-Ai-Japan-June-2019-単号/product-reviews/488996813X?ref=cm_cr_arp_d_paging_btm_next_2?ie=UTF8&reviewerType=all_reviews&pageNumber=1', 'https://www.amazon.co.jp/English-Grammar-Answers-Interactive-eBook/product-reviews/1107539331?ref=cm_cr_arp_d_paging_btm_next_2?ie=UTF8&reviewerType=all_reviews&pageNumber=1', 'https://www.amazon.co.jp/adidas-アディダス-JAO26-スニーカー-VALCLEAN2/product-reviews/B0196FTW4O?ref=cm_cr_arp_d_paging_btm_next_2?ie=UTF8&reviewerType=all_reviews&pageNumber=1', 'https://www.amazon.co.jp/コロンブス-columbus-AMEDAS-防水スプレー-420ml/product-reviews/B005USRXKW?ref=cm_cr_arp_d_paging_btm_next_2?ie=UTF8&reviewerType=all_reviews&pageNumber=1', 'https://www.amazon.co.jp/ニューバランス-スニーカー-FS996-現行モデル-ベビー/product-reviews/B07DLYM2RY?ref=cm_cr_arp_d_paging_btm_next_2?ie=UTF8&reviewerType=all_reviews&pageNumber=1', 'https://www.amazon.co.jp/三菱電機-アルカリ乾電池-シュリンクパック-LR03N-10S/product-reviews/B001CQXUNK?ref=cm_cr_arp_d_paging_btm_next_2?ie=UTF8&reviewerType=all_reviews&pageNumber=1', 'https://www.amazon.co.jp/三菱電機-アルカリ乾電池-シュリンクパック-LR6N-10S/product-reviews/B001CR1RAM?ref=cm_cr_arp_d_paging_btm_next_2?ie=UTF8&reviewerType=all_reviews&pageNumber=1', 'https://www.amazon.co.jp/日本製紙クレシア-ワイプオールX70-ポリプロピレン-1パック・50枚入-JWI0401/product-reviews/B001EHK01M?ref=cm_cr_arp_d_paging_btm_next_2?ie=UTF8&reviewerType=all_reviews&pageNumber=1', 'https://www.amazon.co.jp/カシオ-CASIO-腕時計-スタンダード-MQ-24-7B2LLJF/product-reviews/B000VOBQXK?ref=cm_cr_arp_d_paging_btm_next_2?ie=UTF8&reviewerType=all_reviews&pageNumber=1', 'https://www.amazon.co.jp/カシオ-CASIO-腕時計-スタンダード-F-91W-1JF/product-reviews/B00FLMCJMY?ref=cm_cr_arp_d_paging_btm_next_2?ie=UTF8&reviewerType=all_reviews&pageNumber=1', 'https://www.amazon.co.jp/シチズン-キューアンドキュー-CITIZEN-Falcon-ウレタンベルト/product-reviews/B078C83GR6?ref=cm_cr_arp_d_paging_btm_next_2?ie=UTF8&reviewerType=all_reviews&pageNumber=1', 'https://www.amazon.co.jp/コンビ-紙おむつ処理ポット-強力防臭抗菌おむつポットポイテック・においクルルンポイ-共用スペアカセット-99-抗菌フィルム/product-reviews/B00PIHOB8W?ref=cm_cr_arp_d_paging_btm_next_2?ie=UTF8&reviewerType=all_reviews&pageNumber=1', 'https://www.amazon.co.jp/驚異の防臭袋-BOS-ボス-おむつが臭わない袋-【袋カラー：ピンク】/product-reviews/B01DEFEMU6?ref=cm_cr_arp_d_paging_btm_next_2?ie=UTF8&reviewerType=all_reviews&pageNumber=1', 'https://www.amazon.co.jp/Baby-Smile-電動鼻水吸引器-メルシーポット-S-503/product-reviews/B07B4V64L3?ref=cm_cr_arp_d_paging_btm_next_2?ie=UTF8&reviewerType=all_reviews&pageNumber=1', 'https://www.amazon.co.jp/Fire-TV-Stick-Alexa対応音声認識リモコン付属/product-reviews/B0791YQWJJ?ref=cm_cr_arp_d_paging_btm_next_2?ie=UTF8&reviewerType=all_reviews&pageNumber=1', 'https://www.amazon.co.jp/Fire-TV-Stick-4K-HDR対応-Alexa対応音声認識リモコン付属/product-reviews/B079QRQTCR?ref=cm_cr_arp_d_paging_btm_next_2?ie=UTF8&reviewerType=all_reviews&pageNumber=1', 'https://www.amazon.co.jp/Fire-HD-10-タブレット-10.1インチ-Newモデル-32GB-ブラック/product-reviews/B01J6RPOJY?ref=cm_cr_arp_d_paging_btm_next_2?ie=UTF8&reviewerType=all_reviews&pageNumber=1', 'https://www.amazon.co.jp/シュアラスター-ノーコンパウンド-カーシャンプー1000-SurLuster-S-30/product-reviews/B002Y06MOC?ref=cm_cr_arp_d_paging_btm_next_2?ie=UTF8&reviewerType=all_reviews&pageNumber=1', 'https://www.amazon.co.jp/シュアラスター-ウォッシングスポンジ-キズ防止-SurLuster-S-70/product-reviews/B003UQFPHO?ref=cm_cr_arp_d_paging_btm_next_2?ie=UTF8&reviewerType=all_reviews&pageNumber=1', 'https://www.amazon.co.jp/ワコーズ-バリアスコート-プラスチック、塗装、金属の洗浄・保護・コート剤-A141-HTRC2-1/product-reviews/B002TUUMBG?ref=cm_cr_arp_d_paging_btm_next_2?ie=UTF8&reviewerType=all_reviews&pageNumber=1', 'https://www.amazon.co.jp/ユナイテッドアスレ-UnitedAthle-5-6オンス-ハイクオリティー-500101/product-reviews/B00WQG4LBK?ref=cm_cr_arp_d_paging_btm_next_2?ie=UTF8&reviewerType=all_reviews&pageNumber=1', 'https://www.amazon.co.jp/ヘインズ-Hanes-Tシャツ-ビーフィー-BEEFY/product-reviews/B00RF2ZNI0?ref=cm_cr_arp_d_paging_btm_next_2?ie=UTF8&reviewerType=all_reviews&pageNumber=1', 'https://www.amazon.co.jp/adidas-アディダス-JAO26-スニーカー-VALCLEAN2/product-reviews/B0196FTW4O?ref=cm_cr_arp_d_paging_btm_next_2?ie=UTF8&reviewerType=all_reviews&pageNumber=1']\n"
     ]
    }
   ],
   "source": [
    "print(links)"
   ]
  },
  {
   "cell_type": "code",
   "execution_count": null,
   "metadata": {},
   "outputs": [],
   "source": [
    "class Review:\n",
    "    star = 0\n",
    "    text = ''\"\""
   ]
  },
  {
   "cell_type": "code",
   "execution_count": null,
   "metadata": {},
   "outputs": [],
   "source": [
    "reviews = []"
   ]
  },
  {
   "cell_type": "code",
   "execution_count": null,
   "metadata": {},
   "outputs": [],
   "source": [
    "for l in links:\n",
    "    item_html =  urlopen(\"https://www.amazon.co.jp/ranking?type=top-sellers&ref=crw_prtl_ts\")\n",
    "    item_soup = BeautifulSoup(item_html)\n",
    "    \n",
    "    reviews.append(Review())\n",
    "    time.wait(1.0)\n",
    "    \n",
    "    "
   ]
  }
 ],
 "metadata": {
  "kernelspec": {
   "display_name": "Python 3",
   "language": "python",
   "name": "python3"
  },
  "language_info": {
   "codemirror_mode": {
    "name": "ipython",
    "version": 3
   },
   "file_extension": ".py",
   "mimetype": "text/x-python",
   "name": "python",
   "nbconvert_exporter": "python",
   "pygments_lexer": "ipython3",
   "version": "3.6.5"
  }
 },
 "nbformat": 4,
 "nbformat_minor": 2
}
