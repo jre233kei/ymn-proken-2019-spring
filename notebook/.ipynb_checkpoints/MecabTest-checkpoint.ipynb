{
 "cells": [
  {
   "cell_type": "code",
   "execution_count": 1,
   "metadata": {},
   "outputs": [
    {
     "name": "stdout",
     "output_type": "stream",
     "text": [
      "Collecting mecab\n",
      "\u001b[31m  Could not find a version that satisfies the requirement mecab (from versions: )\u001b[0m\n",
      "\u001b[31mNo matching distribution found for mecab\u001b[0m\n",
      "\u001b[33mYou are using pip version 18.1, however version 19.1 is available.\n",
      "You should consider upgrading via the 'pip install --upgrade pip' command.\u001b[0m\n"
     ]
    }
   ],
   "source": [
    "!pip install mecab mecab-ipadic"
   ]
  },
  {
   "cell_type": "code",
   "execution_count": 2,
   "metadata": {},
   "outputs": [
    {
     "name": "stdout",
     "output_type": "stream",
     "text": [
      "Requirement already satisfied: mecab-python3 in /Users/fukuikota/miniconda3/lib/python3.6/site-packages (0.996.1)\n",
      "\u001b[33mYou are using pip version 18.1, however version 19.1 is available.\n",
      "You should consider upgrading via the 'pip install --upgrade pip' command.\u001b[0m\n"
     ]
    }
   ],
   "source": [
    "!pip install mecab-python3"
   ]
  },
  {
   "cell_type": "code",
   "execution_count": 34,
   "metadata": {},
   "outputs": [
    {
     "name": "stdout",
     "output_type": "stream",
     "text": [
      "Collecting gensim\n",
      "\u001b[?25l  Downloading https://files.pythonhosted.org/packages/1a/9e/26275beac257a84ac7da095e8783113ed39b7437aaba86d2c0ed36a9c586/gensim-3.7.2-cp36-cp36m-macosx_10_6_intel.macosx_10_9_intel.macosx_10_9_x86_64.macosx_10_10_intel.macosx_10_10_x86_64.whl (24.7MB)\n",
      "\u001b[K    100% |████████████████████████████████| 24.7MB 664kB/s eta 0:00:01   13% |████▏                           | 3.2MB 10.7MB/s eta 0:00:02\n",
      "\u001b[?25hRequirement already satisfied: numpy>=1.11.3 in /Users/fukuikota/miniconda3/lib/python3.6/site-packages (from gensim) (1.14.5)\n",
      "Requirement already satisfied: scipy>=0.18.1 in /Users/fukuikota/miniconda3/lib/python3.6/site-packages (from gensim) (1.1.0)\n",
      "Requirement already satisfied: six>=1.5.0 in /Users/fukuikota/miniconda3/lib/python3.6/site-packages (from gensim) (1.11.0)\n",
      "Collecting smart-open>=1.7.0 (from gensim)\n",
      "\u001b[?25l  Downloading https://files.pythonhosted.org/packages/bf/ba/7eaf3c0dbe601c43d88e449dcd7b61d385fe07c0167163f63f58ece7c1b5/smart_open-1.8.3.tar.gz (60kB)\n",
      "\u001b[K    100% |████████████████████████████████| 61kB 8.2MB/s ta 0:00:011\n",
      "\u001b[?25hCollecting boto>=2.32 (from smart-open>=1.7.0->gensim)\n",
      "\u001b[?25l  Downloading https://files.pythonhosted.org/packages/23/10/c0b78c27298029e4454a472a1919bde20cb182dab1662cec7f2ca1dcc523/boto-2.49.0-py2.py3-none-any.whl (1.4MB)\n",
      "\u001b[K    100% |████████████████████████████████| 1.4MB 6.1MB/s eta 0:00:01\n",
      "\u001b[?25hRequirement already satisfied: requests in /Users/fukuikota/miniconda3/lib/python3.6/site-packages (from smart-open>=1.7.0->gensim) (2.18.4)\n",
      "Collecting boto3 (from smart-open>=1.7.0->gensim)\n",
      "\u001b[?25l  Downloading https://files.pythonhosted.org/packages/9a/9b/b69aefdf7e72833f3b0e48204dcee887d821696950891a63a24f480ab72e/boto3-1.9.142-py2.py3-none-any.whl (128kB)\n",
      "\u001b[K    100% |████████████████████████████████| 133kB 9.2MB/s eta 0:00:01\n",
      "\u001b[?25hRequirement already satisfied: chardet<3.1.0,>=3.0.2 in /Users/fukuikota/miniconda3/lib/python3.6/site-packages (from requests->smart-open>=1.7.0->gensim) (3.0.4)\n",
      "Requirement already satisfied: idna<2.7,>=2.5 in /Users/fukuikota/miniconda3/lib/python3.6/site-packages (from requests->smart-open>=1.7.0->gensim) (2.6)\n",
      "Requirement already satisfied: urllib3<1.23,>=1.21.1 in /Users/fukuikota/miniconda3/lib/python3.6/site-packages (from requests->smart-open>=1.7.0->gensim) (1.22)\n",
      "Requirement already satisfied: certifi>=2017.4.17 in /Users/fukuikota/miniconda3/lib/python3.6/site-packages (from requests->smart-open>=1.7.0->gensim) (2018.4.16)\n",
      "Collecting s3transfer<0.3.0,>=0.2.0 (from boto3->smart-open>=1.7.0->gensim)\n",
      "\u001b[?25l  Downloading https://files.pythonhosted.org/packages/d7/de/5737f602e22073ecbded7a0c590707085e154e32b68d86545dcc31004c02/s3transfer-0.2.0-py2.py3-none-any.whl (69kB)\n",
      "\u001b[K    100% |████████████████████████████████| 71kB 11.5MB/s ta 0:00:01\n",
      "\u001b[?25hCollecting botocore<1.13.0,>=1.12.142 (from boto3->smart-open>=1.7.0->gensim)\n",
      "\u001b[?25l  Downloading https://files.pythonhosted.org/packages/68/b2/b6cef020563ae92424531b2b304015d27cf81986f25a4132c59d1e937197/botocore-1.12.142-py2.py3-none-any.whl (5.4MB)\n",
      "\u001b[K    100% |████████████████████████████████| 5.4MB 2.1MB/s ta 0:00:011\n",
      "\u001b[?25hCollecting jmespath<1.0.0,>=0.7.1 (from boto3->smart-open>=1.7.0->gensim)\n",
      "  Downloading https://files.pythonhosted.org/packages/83/94/7179c3832a6d45b266ddb2aac329e101367fbdb11f425f13771d27f225bb/jmespath-0.9.4-py2.py3-none-any.whl\n",
      "Collecting docutils>=0.10 (from botocore<1.13.0,>=1.12.142->boto3->smart-open>=1.7.0->gensim)\n",
      "\u001b[?25l  Downloading https://files.pythonhosted.org/packages/36/fa/08e9e6e0e3cbd1d362c3bbee8d01d0aedb2155c4ac112b19ef3cae8eed8d/docutils-0.14-py3-none-any.whl (543kB)\n",
      "\u001b[K    100% |████████████████████████████████| 552kB 8.7MB/s ta 0:00:011\n",
      "\u001b[?25hRequirement already satisfied: python-dateutil<3.0.0,>=2.1; python_version >= \"2.7\" in /Users/fukuikota/miniconda3/lib/python3.6/site-packages (from botocore<1.13.0,>=1.12.142->boto3->smart-open>=1.7.0->gensim) (2.7.3)\n",
      "Building wheels for collected packages: smart-open\n",
      "  Running setup.py bdist_wheel for smart-open ... \u001b[?25ldone\n",
      "\u001b[?25h  Stored in directory: /Users/fukuikota/Library/Caches/pip/wheels/b8/cb/43/c0ba52baf2b0e371ec1d5b2d4685d6d24617b1391f3eeacda5\n",
      "Successfully built smart-open\n",
      "Installing collected packages: boto, docutils, jmespath, botocore, s3transfer, boto3, smart-open, gensim\n",
      "Successfully installed boto-2.49.0 boto3-1.9.142 botocore-1.12.142 docutils-0.14 gensim-3.7.2 jmespath-0.9.4 s3transfer-0.2.0 smart-open-1.8.3\n",
      "\u001b[33mYou are using pip version 18.1, however version 19.1 is available.\n",
      "You should consider upgrading via the 'pip install --upgrade pip' command.\u001b[0m\n"
     ]
    }
   ],
   "source": [
    "!pip install gensim"
   ]
  },
  {
   "cell_type": "code",
   "execution_count": 39,
   "metadata": {},
   "outputs": [
    {
     "name": "stdout",
     "output_type": "stream",
     "text": [
      "Collecting fasttext\n",
      "\u001b[?25l  Downloading https://files.pythonhosted.org/packages/a4/86/ff826211bc9e28d4c371668b30b4b2c38a09127e5e73017b1c0cd52f9dfa/fasttext-0.8.3.tar.gz (73kB)\n",
      "\u001b[K    100% |████████████████████████████████| 81kB 833kB/s ta 0:00:01\n",
      "\u001b[?25hRequirement already satisfied: numpy>=1 in /Users/fukuikota/miniconda3/lib/python3.6/site-packages (from fasttext) (1.14.5)\n",
      "Requirement already satisfied: future in /Users/fukuikota/miniconda3/lib/python3.6/site-packages (from fasttext) (0.16.0)\n",
      "Building wheels for collected packages: fasttext\n",
      "  Running setup.py bdist_wheel for fasttext ... \u001b[?25ldone\n",
      "\u001b[?25h  Stored in directory: /Users/fukuikota/Library/Caches/pip/wheels/73/8e/5d/ecb50b90adaab5868ae1d8df180f31e55e85c2f055aaf2fb35\n",
      "Successfully built fasttext\n",
      "Installing collected packages: fasttext\n",
      "Successfully installed fasttext-0.8.3\n",
      "\u001b[33mYou are using pip version 18.1, however version 19.1 is available.\n",
      "You should consider upgrading via the 'pip install --upgrade pip' command.\u001b[0m\n"
     ]
    }
   ],
   "source": [
    "!pip install fasttext"
   ]
  },
  {
   "cell_type": "code",
   "execution_count": 36,
   "metadata": {},
   "outputs": [],
   "source": [
    "from gensim.models import word2vec\n"
   ]
  },
  {
   "cell_type": "code",
   "execution_count": 5,
   "metadata": {},
   "outputs": [],
   "source": [
    "import MeCab\n",
    "import pickle"
   ]
  },
  {
   "cell_type": "code",
   "execution_count": 9,
   "metadata": {},
   "outputs": [],
   "source": [
    "class Review:\n",
    "    def __init__ (self,star,text):\n",
    "        self.star = star\n",
    "        self.text = text"
   ]
  },
  {
   "cell_type": "code",
   "execution_count": 10,
   "metadata": {},
   "outputs": [],
   "source": [
    "with open('../data/processing/reviews.pickle','rb') as f:\n",
    "    revs = pickle.load(f)"
   ]
  },
  {
   "cell_type": "code",
   "execution_count": 11,
   "metadata": {},
   "outputs": [],
   "source": [
    "m = MeCab.Tagger (\"-Ochasen\")"
   ]
  },
  {
   "cell_type": "code",
   "execution_count": 38,
   "metadata": {},
   "outputs": [
    {
     "ename": "TypeError",
     "evalue": "must be str, not Review",
     "output_type": "error",
     "traceback": [
      "\u001b[0;31m---------------------------------------------------------------------------\u001b[0m",
      "\u001b[0;31mTypeError\u001b[0m                                 Traceback (most recent call last)",
      "\u001b[0;32m<ipython-input-38-3b9506a22533>\u001b[0m in \u001b[0;36m<module>\u001b[0;34m()\u001b[0m\n\u001b[1;32m      1\u001b[0m \u001b[0mrev_text\u001b[0m \u001b[0;34m=\u001b[0m  \u001b[0;34m\"\"\u001b[0m\u001b[0;34m\u001b[0m\u001b[0m\n\u001b[1;32m      2\u001b[0m \u001b[0;32mfor\u001b[0m \u001b[0mr\u001b[0m \u001b[0;32min\u001b[0m \u001b[0mrevs\u001b[0m\u001b[0;34m:\u001b[0m\u001b[0;34m\u001b[0m\u001b[0m\n\u001b[0;32m----> 3\u001b[0;31m     \u001b[0mrev_text\u001b[0m \u001b[0;34m+=\u001b[0m \u001b[0mr\u001b[0m\u001b[0;34m\u001b[0m\u001b[0m\n\u001b[0m",
      "\u001b[0;31mTypeError\u001b[0m: must be str, not Review"
     ]
    }
   ],
   "source": []
  },
  {
   "cell_type": "code",
   "execution_count": 13,
   "metadata": {},
   "outputs": [],
   "source": [
    "rev_text = revs[0].text\n",
    "(m.parse (rev_text))"
   ]
  },
  {
   "cell_type": "code",
   "execution_count": 29,
   "metadata": {},
   "outputs": [],
   "source": [
    "words_raw = [i.split() for i in mecab_result.split('\\n')]"
   ]
  },
  {
   "cell_type": "code",
   "execution_count": 32,
   "metadata": {},
   "outputs": [],
   "source": [
    "words = []\n",
    "for w in words_raw:\n",
    "    if len(w)>1:\n",
    "        words.append(w[0])"
   ]
  },
  {
   "cell_type": "code",
   "execution_count": 33,
   "metadata": {},
   "outputs": [
    {
     "name": "stdout",
     "output_type": "stream",
     "text": [
      "['いわゆる', 'よく', 'ある', '単語', '集', 'は', 'なかなか', '覚えず', 'づらく', '、', 'その', 'ため', '、', '単語', 'は', '語源', 'で', '覚え', 'た', 'ほう', 'が', 'いい', 'の', 'で', 'は', 'ない', 'か', '？', 'という', '疑問', 'は', '英語', '学習', '者', 'に', 'いつも', '付きまとう', 'と', '思う', '。', '特に', 'まだ', '初', '学者', 'に', 'は', 'なお', '更', '気', 'に', 'なる', 'こと', 'だ', 'と', '思う', '。', 'ただ', '長年', '英語', 'を', '勉強', 'し', 'て', 'き', 'て', '、', '仕事', 'で', 'も', '英語', 'も', '使う', 'よう', 'に', 'なっ', 'た', '身', 'として', 'は', '、', 'こう', 'いっ', 'た', '語源', 'を', 'もと', 'に', 'し', 'た', '本', 'は', '、', 'これ', 'まで', 'ある程度', 'の', '英単語', 'を', 'すでに', '覚え', 'て', 'い', 'て', '、', 'それ', 'を', '整理', 'する', 'という', '意味', 'で', 'は', '効果', 'を', '発揮', 'する', 'と', '思う', '。', '読め', 'ば', '、', 'なるほど', '、', 'と', '思っ', 'たり', '、', 'これから', '英語', 'を', '読む', 'にあたって', '、', '推測', '力', 'も', '付く', 'か', 'と', '思う', '。', '逆', 'に', '初', '学者', 'が', 'いきなり', 'これから', '始め', 'て', 'しまう', 'と', '余計', '時間', 'が', 'かかっ', 'て', 'しまう', 'の', 'で', 'は', 'ない', 'か', 'と', '思う', '。', 'けっこう', 'イメージ', '的', 'な', '組み', '合', '合わせ', 'な', 'ので', '、', 'この', '方法', 'で', '覚える', 'という', 'の', 'も', '無理', 'が', 'ある', 'の', 'で', 'は', 'ない', 'か', '？', 'この', '本', 'の', '評価', 'が', '低い', 'の', 'は', '初学', '者', 'の', '方', 'が', '多く', '、', '評価', 'が', '高い', 'の', 'は', '、', 'これ', 'まで', 'ある程度', 'の', '英語', 'を', 'すでに', '覚え', 'て', 'いる', '方', 'が', '多い', 'の', 'で', 'は', 'ない', 'か', 'と', '思う', '。', '結論', 'として', '、', 'この', '語源', 'で', '覚える', 'のに', '違和感', 'が', 'あれ', 'ば', '、', '無理', 'し', 'て', '語源', 'から', '覚える', '必要', 'は', 'なく', '、', '学校', '等', 'で', '配布', 'さ', 'れ', 'た', '単語', '集', 'が', 'ある', 'なら', '、', 'そちら', 'を', '覚え', 'て', 'いけ', 'ば', '良い', 'と', '思う', '。', 'ただ', '、', '個人', '的', 'に', 'は', '単語', 'は', '単語', '集', 'で', 'は', 'なく', '、', 'リーディング', 'や', 'リスニング', 'を', 'する', '中', 'で', '、', '一緒', 'に', '覚え', 'て', 'いく', 'の', 'が', '一番', '効率', 'が', '良い', 'と', '思う', '。', '単語', 'だけ', 'が', 'ひたすら', '並ん', 'だ', 'もの', 'を', '覚える', 'の', 'は', '、', '正直', '、', '日本語', 'で', '言え', 'ば', '、', '国語', '辞典', 'から', '太', '文字', 'を', '抜粋', 'し', 'て', '覚える', 'の', 'に', '近く', '、', 'そんな', '単語', 'の', '羅列', 'を', '、', 'まず', '覚える', 'の', 'が', '難しく', '、', 'また', '、', 'その', '覚え', 'た', '単語', 'が', '実際', '使える', 'の', 'か', 'どう', 'か', 'は', '実際', '出会っ', 'て', 'み', 'ない', 'と', 'わから', 'ない', 'という', '欠点', 'が', 'ある', '。']\n"
     ]
    }
   ],
   "source": [
    "print(words)"
   ]
  },
  {
   "cell_type": "code",
   "execution_count": 37,
   "metadata": {},
   "outputs": [],
   "source": [
    "sent = words\n",
    "\n",
    "model = word2vec.Word2Vec(sent,\n",
    "                          size=100,  # ベクトルの次元\n",
    "                          min_count=3,  # 最小3回以上出ている単語のみの使用\n",
    "                          window=5,  # window幅\n",
    "                          iter=4000,  # 学習の繰り返し数\n",
    "                          seed=2018\n",
    "                         )"
   ]
  },
  {
   "cell_type": "code",
   "execution_count": null,
   "metadata": {},
   "outputs": [],
   "source": []
  }
 ],
 "metadata": {
  "kernelspec": {
   "display_name": "Python 3",
   "language": "python",
   "name": "python3"
  },
  "language_info": {
   "codemirror_mode": {
    "name": "ipython",
    "version": 3
   },
   "file_extension": ".py",
   "mimetype": "text/x-python",
   "name": "python",
   "nbconvert_exporter": "python",
   "pygments_lexer": "ipython3",
   "version": "3.6.5"
  }
 },
 "nbformat": 4,
 "nbformat_minor": 2
}
