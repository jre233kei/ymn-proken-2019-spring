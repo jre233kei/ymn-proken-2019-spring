{
 "cells": [
  {
   "cell_type": "code",
   "execution_count": 2,
   "metadata": {},
   "outputs": [
    {
     "name": "stdout",
     "output_type": "stream",
     "text": [
      "Requirement already satisfied: selenium in /Users/fukuikota/miniconda3/lib/python3.6/site-packages (3.141.0)\r\n",
      "Requirement already satisfied: urllib3 in /Users/fukuikota/miniconda3/lib/python3.6/site-packages (from selenium) (1.22)\r\n"
     ]
    }
   ],
   "source": [
    "!pip install selenium"
   ]
  },
  {
   "cell_type": "code",
   "execution_count": 3,
   "metadata": {},
   "outputs": [
    {
     "name": "stdout",
     "output_type": "stream",
     "text": [
      "Requirement already satisfied: chromedriver-binary in /Users/fukuikota/miniconda3/lib/python3.6/site-packages (75.0.3770.8.0)\r\n"
     ]
    }
   ],
   "source": [
    "!pip install chromedriver-binary"
   ]
  },
  {
   "cell_type": "code",
   "execution_count": 4,
   "metadata": {},
   "outputs": [
    {
     "name": "stdout",
     "output_type": "stream",
     "text": [
      "Updating Homebrew...\n",
      "^C\n"
     ]
    }
   ],
   "source": [
    "!brew install chromedriver"
   ]
  },
  {
   "cell_type": "code",
   "execution_count": null,
   "metadata": {},
   "outputs": [],
   "source": [
    "# append import path\n",
    "import os, sys\n",
    "print(os.getcwd())\n",
    "sys.path.append('../')"
   ]
  },
  {
   "cell_type": "code",
   "execution_count": 8,
   "metadata": {},
   "outputs": [
    {
     "name": "stdout",
     "output_type": "stream",
     "text": [
      "[]\n"
     ]
    }
   ],
   "source": [
    "import os, sys\n",
    "from model  import estimation_silent\n",
    "import time\n",
    "from selenium import webdriver\n",
    "\n",
    "\n",
    "\n",
    "driver = webdriver.Chrome()  # Optional argument, if not specified will search path.\n",
    "# driver.get('https://ikujipapa.net/archives/16621')\n",
    "driver.get('https://www.google.com')\n",
    "time.sleep(3)\n",
    "result = driver.find_elements_by_tag_name('p')\n",
    "result_parents = set()\n",
    "for r in result:\n",
    "    result_parents.add(r.find_element_by_xpath('..'))\n",
    "\n",
    "for r in result_parents:\n",
    "    print(r.get_attribute(\"id\"))\n",
    "    \n",
    "print([r.text for r in result])\n",
    "driver.quit()"
   ]
  },
  {
   "cell_type": "code",
   "execution_count": null,
   "metadata": {},
   "outputs": [],
   "source": [
    "import time\n",
    "from selenium import webdriver\n",
    "\n",
    "driver = webdriver.Chrome()  # Optional argument, if not specified will search path.\n",
    "driver.get('https://ikujipapa.net/archives/16621')\n",
    "results_raw = driver.find_elements_by_tag_name('p')\n",
    "\n",
    "\n",
    "for r in results_raw:\n",
    "    print(r.get_attribute(\"id\"))\n",
    "    \n",
    "print([r.text for r in results])\n",
    "driver.quit()"
   ]
  },
  {
   "cell_type": "code",
   "execution_count": 1,
   "metadata": {},
   "outputs": [
    {
     "name": "stdout",
     "output_type": "stream",
     "text": [
      "2.888675\n"
     ]
    }
   ],
   "source": [
    "MODEL_PATH = '../data/processing/20190526_名詞のみ.bin'\n",
    "CONTENT = 'ここにテキストが入ります。'\n",
    "\n",
    "# -*- coding: utf-8 -*-\n",
    "\n",
    "import sys\n",
    "import subprocess as cmd\n",
    "import MeCab\n",
    "import fasttext as ft\n",
    "from sklearn.metrics import mean_squared_error\n",
    "\n",
    "\n",
    "def text2bow(obj, mod):\n",
    "\n",
    "    # input: ファイルの場合はmod=\"file\", input: 文字列の場合はmod=\"str\"\n",
    "\n",
    "    \"\"\"\n",
    "    if mod == \"file\":\n",
    "        morp = cmd.getstatusoutput(\"cat \" + obj + \" | mecab -Owakati\")\n",
    "    elif mod == \"str\":\n",
    "        morp = cmd.getstatusoutput(\"echo \" + obj + \" | mecab -Owakati\")\n",
    "    else:\n",
    "        print (\"error!!\")\n",
    "        sys.exit(0)\n",
    "    \"\"\"\n",
    "\n",
    "    mecab = MeCab.Tagger(\"-Ochasen\")\n",
    "    morp = mecab.parse(obj)\n",
    "\n",
    "    # print(morp)\n",
    "\n",
    "    words = morp[1]\n",
    "    words = words.replace('\\n','')\n",
    "\n",
    "    return words\n",
    "\n",
    "def Scoring(prob):\n",
    "\n",
    "    score = 0.0\n",
    "    for e in prob.keys():\n",
    "        score += e*prob[e]\n",
    "\n",
    "    return score\n",
    "\n",
    "\n",
    "def SentimentEstimation(input_txt, clf):\n",
    "\n",
    "    prob = {}\n",
    "\n",
    "    bow = text2bow(input_txt, mod=\"str\")\n",
    "\n",
    "    # print(bow)\n",
    "    estimate = clf.predict_proba(texts=[bow], k=5)[0]\n",
    "\n",
    "    for e in estimate:\n",
    "        index = int(e[0][9])\n",
    "        prob[index] = e[1]\n",
    "\n",
    "    score = Scoring(prob)\n",
    "    return score\n",
    "\n",
    "\n",
    "def main(model):\n",
    "\n",
    "    score = SentimentEstimation(CONTENT, model)\n",
    "    print(score)\n",
    "\n",
    "\n",
    "if __name__ == \"__main__\":\n",
    "\n",
    "    argvs = sys.argv\n",
    "\n",
    "    _usage = \"\"\"--                                                                                                                                                       \n",
    "Usage:                                                                                                                                                                   \n",
    "    python estimation.py [model]                                                                                                                                         \n",
    "Args:                                                                                                                                                                    \n",
    "    [model]: The argument is a model for sentiment estimation that is trained by fastText.                                                                               \n",
    "\"\"\".rstrip()\n",
    "\n",
    "    if len(argvs) < 2:\n",
    "        print (_usage)\n",
    "        sys.exit(0)\n",
    "\n",
    "    model = ft.load_model(MODEL_PATH)\n",
    "\n",
    "    main(model)"
   ]
  },
  {
   "cell_type": "code",
   "execution_count": null,
   "metadata": {},
   "outputs": [],
   "source": []
  },
  {
   "cell_type": "code",
   "execution_count": 68,
   "metadata": {},
   "outputs": [
    {
     "ename": "NameError",
     "evalue": "name 'argvs' is not defined",
     "output_type": "error",
     "traceback": [
      "\u001b[0;31m---------------------------------------------------------------------------\u001b[0m",
      "\u001b[0;31mNameError\u001b[0m                                 Traceback (most recent call last)",
      "\u001b[0;32m<ipython-input-68-a50aa1a23bb5>\u001b[0m in \u001b[0;36m<module>\u001b[0;34m()\u001b[0m\n\u001b[0;32m----> 1\u001b[0;31m \u001b[0mestimation_silent\u001b[0m\u001b[0;34m.\u001b[0m\u001b[0mmain\u001b[0m\u001b[0;34m(\u001b[0m\u001b[0;34m[\u001b[0m\u001b[0;34m''\u001b[0m\u001b[0;34m,\u001b[0m\u001b[0;34m'../data/processing/20190526_名詞のみ.bin'\u001b[0m\u001b[0;34m,\u001b[0m \u001b[0;34m'../data/processing/test.txt'\u001b[0m\u001b[0;34m]\u001b[0m\u001b[0;34m)\u001b[0m\u001b[0;34m\u001b[0m\u001b[0m\n\u001b[0m",
      "\u001b[0;32m~/work/indivisual/ymn-proken/model/estimation_silent.py\u001b[0m in \u001b[0;36mmain\u001b[0;34m(model)\u001b[0m\n\u001b[1;32m     63\u001b[0m     \u001b[0mpred\u001b[0m \u001b[0;34m=\u001b[0m \u001b[0;34m[\u001b[0m\u001b[0;34m]\u001b[0m\u001b[0;34m\u001b[0m\u001b[0m\n\u001b[1;32m     64\u001b[0m \u001b[0;34m\u001b[0m\u001b[0m\n\u001b[0;32m---> 65\u001b[0;31m     \u001b[0mpath\u001b[0m \u001b[0;34m=\u001b[0m \u001b[0margvs\u001b[0m\u001b[0;34m[\u001b[0m\u001b[0;36m2\u001b[0m\u001b[0;34m]\u001b[0m\u001b[0;34m\u001b[0m\u001b[0m\n\u001b[0m\u001b[1;32m     66\u001b[0m     \u001b[0mtest_text\u001b[0m \u001b[0;34m=\u001b[0m \u001b[0mopen\u001b[0m\u001b[0;34m(\u001b[0m\u001b[0mpath\u001b[0m\u001b[0;34m,\u001b[0m \u001b[0;34m'r'\u001b[0m\u001b[0;34m)\u001b[0m\u001b[0;34m\u001b[0m\u001b[0m\n\u001b[1;32m     67\u001b[0m \u001b[0;34m\u001b[0m\u001b[0m\n",
      "\u001b[0;31mNameError\u001b[0m: name 'argvs' is not defined"
     ]
    }
   ],
   "source": []
  }
 ],
 "metadata": {
  "kernelspec": {
   "display_name": "Python 3",
   "language": "python",
   "name": "python3"
  },
  "language_info": {
   "codemirror_mode": {
    "name": "ipython",
    "version": 3
   },
   "file_extension": ".py",
   "mimetype": "text/x-python",
   "name": "python",
   "nbconvert_exporter": "python",
   "pygments_lexer": "ipython3",
   "version": "3.6.5"
  }
 },
 "nbformat": 4,
 "nbformat_minor": 2
}
